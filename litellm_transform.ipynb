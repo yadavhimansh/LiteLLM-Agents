{
 "cells": [
  {
   "cell_type": "code",
   "execution_count": 2,
   "metadata": {},
   "outputs": [],
   "source": [
    "import PyPDF2\n",
    "import pandas as pd\n",
    "\n",
    "def extract_text_from_pdf(pdf_path: str) -> str:\n",
    "    \"\"\"\n",
    "    Extract text from a PDF file.\n",
    "    \"\"\"\n",
    "    with open(pdf_path, \"rb\") as file:\n",
    "        reader = PyPDF2.PdfReader(file)\n",
    "        text = \"\"\n",
    "        for page in reader.pages:\n",
    "            text += page.extract_text()\n",
    "    return text\n",
    "\n",
    "def load_csv_data(csv_path: str) -> pd.DataFrame:\n",
    "    \"\"\"\n",
    "    Load CSV data into a DataFrame.\n",
    "    \"\"\"\n",
    "    return pd.read_csv(csv_path)\n"
   ]
  },
  {
   "cell_type": "code",
   "execution_count": 3,
   "metadata": {},
   "outputs": [],
   "source": [
    "class PDFAgent:\n",
    "    def __init__(self, name: str):\n",
    "        self.name = name\n",
    "\n",
    "    def execute_task(self, pdf_text: str, user_question: str) -> str:\n",
    "        \"\"\"\n",
    "        The PDF Agent answers questions based on the extracted PDF content.\n",
    "        \"\"\"\n",
    "        # Generate a prompt to the LLM (e.g., Lil'LLM)\n",
    "        prompt = f\"Context from PDF:\\n{pdf_text}\\n\\nQuestion: {user_question}\\nAnswer:\"\n",
    "        return generate_text(prompt)\n",
    "\n",
    "\n",
    "class CSVAgent:\n",
    "    def __init__(self, name: str):\n",
    "        self.name = name\n",
    "\n",
    "    def execute_task(self, csv_data: pd.DataFrame, user_question: str) -> str:\n",
    "        \"\"\"\n",
    "        The CSV Agent answers questions based on the CSV data.\n",
    "        \"\"\"\n",
    "        # For simplicity, use the first few rows of the CSV as context\n",
    "        csv_summary = csv_data.head().to_string()\n",
    "        prompt = f\"Context from CSV:\\n{csv_summary}\\n\\nQuestion: {user_question}\\nAnswer:\"\n",
    "        return generate_text(prompt)\n"
   ]
  },
  {
   "cell_type": "code",
   "execution_count": 4,
   "metadata": {},
   "outputs": [
    {
     "name": "stderr",
     "output_type": "stream",
     "text": [
      "/home/himanshu/anaconda3/envs/crewai/lib/python3.11/site-packages/tqdm/auto.py:21: TqdmWarning: IProgress not found. Please update jupyter and ipywidgets. See https://ipywidgets.readthedocs.io/en/stable/user_install.html\n",
      "  from .autonotebook import tqdm as notebook_tqdm\n",
      "No model was supplied, defaulted to facebook/bart-large-mnli and revision d7645e1 (https://huggingface.co/facebook/bart-large-mnli).\n",
      "Using a pipeline without specifying a model name and revision in production is not recommended.\n",
      "Hardware accelerator e.g. GPU is available in the environment, but no `device` argument is passed to the `Pipeline` object. Model will be on CPU.\n"
     ]
    }
   ],
   "source": [
    "from transformers import pipeline\n",
    "\n",
    "# Initialize the zero-shot classification pipeline\n",
    "classifier = pipeline(\"zero-shot-classification\")\n",
    "\n",
    "# Define candidate labels for classification\n",
    "candidate_labels = [\"pdf\", \"csv\", \"both\"]\n",
    "\n",
    "def classify_intent(question: str) -> str:\n",
    "    \"\"\"\n",
    "    Classify the intent of the question using zero-shot classification.\n",
    "    Returns 'pdf', 'csv', or 'both' based on the intent.\n",
    "    \"\"\"\n",
    "    result = classifier(question, candidate_labels)\n",
    "    label = result['labels'][0]  # Choose the highest probability label\n",
    "    return label\n"
   ]
  },
  {
   "cell_type": "code",
   "execution_count": 5,
   "metadata": {},
   "outputs": [],
   "source": [
    "class MultiAgentSystem:\n",
    "    def __init__(self, pdf_agent: PDFAgent, csv_agent: CSVAgent, classifier: callable, pdf_text: str, csv_data: pd.DataFrame):\n",
    "        self.pdf_agent = pdf_agent\n",
    "        self.csv_agent = csv_agent\n",
    "        self.classifier = classifier\n",
    "        self.pdf_text = pdf_text\n",
    "        self.csv_data = csv_data\n",
    "\n",
    "    def run(self, user_question: str):\n",
    "        # Classify the intent of the question\n",
    "        intent = self.classifier(user_question)\n",
    "\n",
    "        if intent == 'pdf':\n",
    "            return self.pdf_agent.execute_task(self.pdf_text, user_question)\n",
    "        elif intent == 'csv':\n",
    "            return self.csv_agent.execute_task(self.csv_data, user_question)\n",
    "        else:\n",
    "            # If the question seems to involve both PDF and CSV\n",
    "            pdf_answer = self.pdf_agent.execute_task(self.pdf_text, user_question)\n",
    "            csv_answer = self.csv_agent.execute_task(self.csv_data, user_question)\n",
    "            return f\"PDF Agent's Answer:\\n{pdf_answer}\\n\\nCSV Agent's Answer:\\n{csv_answer}\"\n"
   ]
  },
  {
   "cell_type": "code",
   "execution_count": 6,
   "metadata": {},
   "outputs": [],
   "source": [
    "def generate_text(prompt: str) -> str:\n",
    "    \"\"\"\n",
    "    Simulate the response from Lil'LLM.\n",
    "    In practice, this should call the actual LLM.\n",
    "    \"\"\"\n",
    "    # In practice, you would replace this with a call to the Lil'LLM or other language models\n",
    "    return f\"Simulated response for prompt: {prompt[:100]}...\"  # Return a short snippet of the prompt\n"
   ]
  },
  {
   "cell_type": "code",
   "execution_count": 7,
   "metadata": {},
   "outputs": [
    {
     "name": "stdout",
     "output_type": "stream",
     "text": [
      "\n",
      "Response:\n",
      "Simulated response for prompt: Context from PDF:\n",
      " \n",
      "                                                                   A mini projec...\n"
     ]
    }
   ],
   "source": [
    "def main():\n",
    "    # Example file paths\n",
    "    pdf_path = \"/home/himanshu/Downloads/drone finalest final.pdf\"\n",
    "    csv_path = \"/home/himanshu/Downloads/2022-11-14_-_Worker_and_Temporary_Worker.csv\"\n",
    "\n",
    "    # Initialize the agents\n",
    "    pdf_agent = PDFAgent(name=\"PDF Text Extraction Agent\")\n",
    "    csv_agent = CSVAgent(name=\"CSV Data Extraction Agent\")\n",
    "\n",
    "    # Load the PDF and CSV data\n",
    "    pdf_text = extract_text_from_pdf(pdf_path)\n",
    "    csv_data = load_csv_data(csv_path)\n",
    "\n",
    "    # Initialize the multi-agent system\n",
    "    multi_agent_system = MultiAgentSystem(\n",
    "        pdf_agent=pdf_agent,\n",
    "        csv_agent=csv_agent,\n",
    "        classifier=classify_intent,\n",
    "        pdf_text=pdf_text,\n",
    "        csv_data=csv_data\n",
    "    )\n",
    "\n",
    "    # Ask the user for a question\n",
    "    user_question = input(\"Please ask a question: \")\n",
    "\n",
    "    # Get the response from the system\n",
    "    response = multi_agent_system.run(user_question)\n",
    "\n",
    "    # Display the response\n",
    "    print(f\"\\nResponse:\\n{response}\")\n",
    "\n",
    "if __name__ == \"__main__\":\n",
    "    main()\n"
   ]
  },
  {
   "cell_type": "code",
   "execution_count": null,
   "metadata": {},
   "outputs": [],
   "source": []
  }
 ],
 "metadata": {
  "kernelspec": {
   "display_name": "crewai",
   "language": "python",
   "name": "python3"
  },
  "language_info": {
   "codemirror_mode": {
    "name": "ipython",
    "version": 3
   },
   "file_extension": ".py",
   "mimetype": "text/x-python",
   "name": "python",
   "nbconvert_exporter": "python",
   "pygments_lexer": "ipython3",
   "version": "3.11.0"
  }
 },
 "nbformat": 4,
 "nbformat_minor": 2
}
