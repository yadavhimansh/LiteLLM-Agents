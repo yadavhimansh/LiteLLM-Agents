{
 "cells": [
  {
   "cell_type": "code",
   "execution_count": 2,
   "metadata": {},
   "outputs": [
    {
     "name": "stdout",
     "output_type": "stream",
     "text": [
      "Collecting transformers\n",
      "  Downloading transformers-4.46.2-py3-none-any.whl.metadata (44 kB)\n",
      "Collecting pymupdf\n",
      "  Downloading PyMuPDF-1.24.13-cp39-abi3-manylinux2014_x86_64.manylinux_2_17_x86_64.whl.metadata (3.4 kB)\n",
      "Requirement already satisfied: pandas in /home/himanshu/anaconda3/envs/crewai/lib/python3.11/site-packages (2.2.3)\n",
      "Requirement already satisfied: filelock in /home/himanshu/anaconda3/envs/crewai/lib/python3.11/site-packages (from transformers) (3.16.1)\n",
      "Requirement already satisfied: huggingface-hub<1.0,>=0.23.2 in /home/himanshu/anaconda3/envs/crewai/lib/python3.11/site-packages (from transformers) (0.26.2)\n",
      "Requirement already satisfied: numpy>=1.17 in /home/himanshu/anaconda3/envs/crewai/lib/python3.11/site-packages (from transformers) (1.26.4)\n",
      "Requirement already satisfied: packaging>=20.0 in /home/himanshu/anaconda3/envs/crewai/lib/python3.11/site-packages (from transformers) (24.1)\n",
      "Requirement already satisfied: pyyaml>=5.1 in /home/himanshu/anaconda3/envs/crewai/lib/python3.11/site-packages (from transformers) (6.0.2)\n",
      "Requirement already satisfied: regex!=2019.12.17 in /home/himanshu/anaconda3/envs/crewai/lib/python3.11/site-packages (from transformers) (2024.11.6)\n",
      "Requirement already satisfied: requests in /home/himanshu/anaconda3/envs/crewai/lib/python3.11/site-packages (from transformers) (2.32.3)\n",
      "Collecting safetensors>=0.4.1 (from transformers)\n",
      "  Downloading safetensors-0.4.5-cp311-cp311-manylinux_2_17_x86_64.manylinux2014_x86_64.whl.metadata (3.8 kB)\n",
      "Requirement already satisfied: tokenizers<0.21,>=0.20 in /home/himanshu/anaconda3/envs/crewai/lib/python3.11/site-packages (from transformers) (0.20.3)\n",
      "Requirement already satisfied: tqdm>=4.27 in /home/himanshu/anaconda3/envs/crewai/lib/python3.11/site-packages (from transformers) (4.67.0)\n",
      "Requirement already satisfied: python-dateutil>=2.8.2 in /home/himanshu/anaconda3/envs/crewai/lib/python3.11/site-packages (from pandas) (2.9.0)\n",
      "Requirement already satisfied: pytz>=2020.1 in /home/himanshu/anaconda3/envs/crewai/lib/python3.11/site-packages (from pandas) (2024.2)\n",
      "Requirement already satisfied: tzdata>=2022.7 in /home/himanshu/anaconda3/envs/crewai/lib/python3.11/site-packages (from pandas) (2024.2)\n",
      "Requirement already satisfied: fsspec>=2023.5.0 in /home/himanshu/anaconda3/envs/crewai/lib/python3.11/site-packages (from huggingface-hub<1.0,>=0.23.2->transformers) (2024.10.0)\n",
      "Requirement already satisfied: typing-extensions>=3.7.4.3 in /home/himanshu/anaconda3/envs/crewai/lib/python3.11/site-packages (from huggingface-hub<1.0,>=0.23.2->transformers) (4.12.2)\n",
      "Requirement already satisfied: six>=1.5 in /home/himanshu/anaconda3/envs/crewai/lib/python3.11/site-packages (from python-dateutil>=2.8.2->pandas) (1.16.0)\n",
      "Requirement already satisfied: charset-normalizer<4,>=2 in /home/himanshu/anaconda3/envs/crewai/lib/python3.11/site-packages (from requests->transformers) (3.4.0)\n",
      "Requirement already satisfied: idna<4,>=2.5 in /home/himanshu/anaconda3/envs/crewai/lib/python3.11/site-packages (from requests->transformers) (3.10)\n",
      "Requirement already satisfied: urllib3<3,>=1.21.1 in /home/himanshu/anaconda3/envs/crewai/lib/python3.11/site-packages (from requests->transformers) (2.2.3)\n",
      "Requirement already satisfied: certifi>=2017.4.17 in /home/himanshu/anaconda3/envs/crewai/lib/python3.11/site-packages (from requests->transformers) (2024.8.30)\n",
      "Downloading transformers-4.46.2-py3-none-any.whl (10.0 MB)\n",
      "\u001b[2K   \u001b[90m━━━━━━━━━━━━━━━━━━━━━━━━━━━━━━━━━━━━━━━━\u001b[0m \u001b[32m10.0/10.0 MB\u001b[0m \u001b[31m5.2 MB/s\u001b[0m eta \u001b[36m0:00:00\u001b[0m \u001b[36m0:00:01\u001b[0m\n",
      "\u001b[?25hDownloading PyMuPDF-1.24.13-cp39-abi3-manylinux2014_x86_64.manylinux_2_17_x86_64.whl (19.8 MB)\n",
      "\u001b[2K   \u001b[90m━━━━━━━━━━━━━━━━━━━━━━━━━━━━━━━━━━━━━━━━\u001b[0m \u001b[32m19.8/19.8 MB\u001b[0m \u001b[31m5.8 MB/s\u001b[0m eta \u001b[36m0:00:00\u001b[0m00:01\u001b[0m00:01\u001b[0m\n",
      "\u001b[?25hDownloading safetensors-0.4.5-cp311-cp311-manylinux_2_17_x86_64.manylinux2014_x86_64.whl (435 kB)\n",
      "Installing collected packages: safetensors, pymupdf, transformers\n",
      "Successfully installed pymupdf-1.24.13 safetensors-0.4.5 transformers-4.46.2\n"
     ]
    }
   ],
   "source": [
    "!pip install transformers pymupdf pandas"
   ]
  },
  {
   "cell_type": "code",
   "execution_count": 1,
   "metadata": {},
   "outputs": [
    {
     "name": "stderr",
     "output_type": "stream",
     "text": [
      "/home/himanshu/anaconda3/envs/crewai/lib/python3.11/site-packages/tqdm/auto.py:21: TqdmWarning: IProgress not found. Please update jupyter and ipywidgets. See https://ipywidgets.readthedocs.io/en/stable/user_install.html\n",
      "  from .autonotebook import tqdm as notebook_tqdm\n"
     ]
    }
   ],
   "source": [
    "from transformers import AutoTokenizer, AutoModelForCausalLM\n",
    "\n",
    "# Load a pre-trained language model (e.g., GPT-2 as a stand-in for LittleLM)\n",
    "model_name = \"gpt2\"\n",
    "tokenizer = AutoTokenizer.from_pretrained(model_name)\n",
    "model = AutoModelForCausalLM.from_pretrained(model_name)\n",
    "\n",
    "# Function to generate text using the model\n",
    "def generate_text(prompt: str, max_length: int = 100) -> str:\n",
    "    inputs = tokenizer.encode(prompt, return_tensors=\"pt\")\n",
    "    outputs = model.generate(inputs, max_length=max_length, num_return_sequences=1)\n",
    "    return tokenizer.decode(outputs[0], skip_special_tokens=True)"
   ]
  },
  {
   "cell_type": "code",
   "execution_count": 2,
   "metadata": {},
   "outputs": [],
   "source": [
    "import fitz  # PyMuPDF\n",
    "\n",
    "def extract_text_from_pdf(pdf_path: str) -> str:\n",
    "    doc = fitz.open(pdf_path)\n",
    "    text = \"\"\n",
    "    for page in doc:\n",
    "        text += page.get_text(\"text\")\n",
    "    return text"
   ]
  },
  {
   "cell_type": "code",
   "execution_count": 3,
   "metadata": {},
   "outputs": [],
   "source": [
    "import pandas as pd\n",
    "\n",
    "def load_csv_data(csv_path: str) -> pd.DataFrame:\n",
    "    return pd.read_csv(csv_path)"
   ]
  },
  {
   "cell_type": "code",
   "execution_count": 4,
   "metadata": {},
   "outputs": [],
   "source": [
    "class Agent:\n",
    "    def __init__(self, name: str, task: str):\n",
    "        self.name = name\n",
    "        self.task = task\n",
    "\n",
    "    def execute_task(self, input_data: str, user_question: str) -> str:\n",
    "        \"\"\"\n",
    "        Execute the task by passing both the input data (extracted content) \n",
    "        and the user's question to the language model.\n",
    "        \"\"\"\n",
    "        print(f\"{self.name} is executing task: {self.task}\")\n",
    "        # Formulate the prompt for the model, combining the input data and the user question\n",
    "        prompt = f\"Context:\\n{input_data}\\n\\nQuestion: {user_question}\\nAnswer:\"\n",
    "        \n",
    "        # Query the language model with the combined prompt\n",
    "        response = generate_text(prompt)\n",
    "        return response"
   ]
  },
  {
   "cell_type": "code",
   "execution_count": 5,
   "metadata": {},
   "outputs": [],
   "source": [
    "class MultiAgentSystem:\n",
    "    def __init__(self, agents: list):\n",
    "        self.agents = agents\n",
    "\n",
    "    def run(self, input_data: str, user_question: str):\n",
    "        results = {}\n",
    "        for agent in self.agents:\n",
    "            result = agent.execute_task(input_data, user_question)\n",
    "            results[agent.name] = result\n",
    "        return results"
   ]
  },
  {
   "cell_type": "code",
   "execution_count": null,
   "metadata": {},
   "outputs": [],
   "source": [
    "# Example PDF and CSV file paths\n",
    "pdf_path = \"example.pdf\"\n",
    "csv_path = \"example.csv\"\n",
    "\n",
    "# Example agents for tasks\n",
    "pdf_agent = Agent(name=\"PDF Text Extraction Agent\", task=\"Extract and process the following PDF content:\")\n",
    "csv_agent = Agent(name=\"CSV Data Extraction Agent\", task=\"Extract and process the following CSV data:\")\n",
    "\n",
    "# Initialize multi-agent system\n",
    "agents = [pdf_agent, csv_agent]\n",
    "multi_agent_system = MultiAgentSystem(agents)\n",
    "\n",
    "# Extract text from PDF\n",
    "pdf_text = extract_text_from_pdf(pdf_path)\n",
    "\n",
    "# Read CSV file into a dataframe\n",
    "csv_data = load_csv_data(csv_path)\n",
    "\n",
    "# Combine PDF text and CSV data (we can format it into a string)\n",
    "csv_summary = csv_data.head().to_string()  # Take the first few rows as a summary\n",
    "\n",
    "# Collect user input (the question)\n",
    "user_question = input(\"Please ask a question: \")\n",
    "\n",
    "# Combine the PDF text and CSV summary into one string for the input data\n",
    "input_data = f\"PDF Text:\\n{pdf_text}\\n\\nCSV Data:\\n{csv_summary}\"\n",
    "\n",
    "# Run the multi-agent system with the extracted data and user question\n",
    "print(\"\\nRunning multi-agent system with your question...\\n\")\n",
    "results = multi_agent_system.run(input_data, user_question)\n",
    "\n",
    "# Display the results\n",
    "for agent_name, result in results.items():\n",
    "    print(f\"\\n{agent_name} Response:\\n{result}\")"
   ]
  },
  {
   "cell_type": "code",
   "execution_count": 6,
   "metadata": {},
   "outputs": [],
   "source": [
    "import re\n",
    "\n",
    "class RouteQuestion:\n",
    "    def __init__(self, pdf_text: str, csv_data: pd.DataFrame):\n",
    "        self.pdf_text = pdf_text\n",
    "        self.csv_data = csv_data\n",
    "\n",
    "    def route(self, user_question: str):\n",
    "        \"\"\"\n",
    "        Route the question to the appropriate agent based on the content.\n",
    "        It checks if the question is about the PDF or CSV.\n",
    "        \"\"\"\n",
    "        # Simple routing logic based on keywords in the question.\n",
    "        if 'csv' in user_question.lower() or 'data' in user_question.lower():\n",
    "            return 'csv'\n",
    "        elif 'pdf' in user_question.lower() or 'text' in user_question.lower():\n",
    "            return 'pdf'\n",
    "        else:\n",
    "            return 'both'  # If the question seems to be asking about both\n",
    "\n",
    "\n"
   ]
  },
  {
   "cell_type": "code",
   "execution_count": 7,
   "metadata": {},
   "outputs": [],
   "source": [
    "class PDFAgent:\n",
    "    def __init__(self, name: str):\n",
    "        self.name = name\n",
    "\n",
    "    def execute_task(self, pdf_text: str, user_question: str) -> str:\n",
    "        \"\"\"\n",
    "        The PDF Agent answers questions based on the extracted PDF content.\n",
    "        \"\"\"\n",
    "        print(f\"{self.name} is answering based on PDF content.\")\n",
    "        prompt = f\"Context from PDF:\\n{pdf_text}\\n\\nQuestion: {user_question}\\nAnswer:\"\n",
    "        return generate_text(prompt)\n",
    "\n",
    "\n",
    "class CSVAgent:\n",
    "    def __init__(self, name: str):\n",
    "        self.name = name\n",
    "\n",
    "    def execute_task(self, csv_data: pd.DataFrame, user_question: str) -> str:\n",
    "        \"\"\"\n",
    "        The CSV Agent answers questions based on the CSV data.\n",
    "        \"\"\"\n",
    "        print(f\"{self.name} is answering based on CSV data.\")\n",
    "        # For simplicity, let's just return the first few rows as context for answering\n",
    "        csv_summary = csv_data.head().to_string()\n",
    "        prompt = f\"Context from CSV:\\n{csv_summary}\\n\\nQuestion: {user_question}\\nAnswer:\"\n",
    "        return generate_text(prompt)\n"
   ]
  },
  {
   "cell_type": "code",
   "execution_count": 8,
   "metadata": {},
   "outputs": [],
   "source": [
    "class MultiAgentSystem:\n",
    "    def __init__(self, pdf_agent: PDFAgent, csv_agent: CSVAgent, router: RouteQuestion):\n",
    "        self.pdf_agent = pdf_agent\n",
    "        self.csv_agent = csv_agent\n",
    "        self.router = router\n",
    "\n",
    "    def run(self, user_question: str):\n",
    "        # Route the question to the appropriate agent\n",
    "        route = self.router.route(user_question)\n",
    "        \n",
    "        if route == 'pdf':\n",
    "            return self.pdf_agent.execute_task(self.router.pdf_text, user_question)\n",
    "        elif route == 'csv':\n",
    "            return self.csv_agent.execute_task(self.router.csv_data, user_question)\n",
    "        else:\n",
    "            # If both or unknown, route to both agents and combine their answers\n",
    "            pdf_answer = self.pdf_agent.execute_task(self.router.pdf_text, user_question)\n",
    "            csv_answer = self.csv_agent.execute_task(self.router.csv_data, user_question)\n",
    "            return f\"PDF Agent's Answer:\\n{pdf_answer}\\n\\nCSV Agent's Answer:\\n{csv_answer}\"\n"
   ]
  },
  {
   "cell_type": "code",
   "execution_count": 9,
   "metadata": {},
   "outputs": [
    {
     "ename": "FileNotFoundError",
     "evalue": "no such file: 'example.pdf'",
     "output_type": "error",
     "traceback": [
      "\u001b[0;31m---------------------------------------------------------------------------\u001b[0m",
      "\u001b[0;31mFileNotFoundError\u001b[0m                         Traceback (most recent call last)",
      "\u001b[0;32m/tmp/ipykernel_84763/434492456.py\u001b[0m in \u001b[0;36m?\u001b[0;34m()\u001b[0m\n\u001b[1;32m      6\u001b[0m \u001b[0mpdf_agent\u001b[0m \u001b[0;34m=\u001b[0m \u001b[0mPDFAgent\u001b[0m\u001b[0;34m(\u001b[0m\u001b[0mname\u001b[0m\u001b[0;34m=\u001b[0m\u001b[0;34m\"PDF Text Extraction Agent\"\u001b[0m\u001b[0;34m)\u001b[0m\u001b[0;34m\u001b[0m\u001b[0;34m\u001b[0m\u001b[0m\n\u001b[1;32m      7\u001b[0m \u001b[0mcsv_agent\u001b[0m \u001b[0;34m=\u001b[0m \u001b[0mCSVAgent\u001b[0m\u001b[0;34m(\u001b[0m\u001b[0mname\u001b[0m\u001b[0;34m=\u001b[0m\u001b[0;34m\"CSV Data Extraction Agent\"\u001b[0m\u001b[0;34m)\u001b[0m\u001b[0;34m\u001b[0m\u001b[0;34m\u001b[0m\u001b[0m\n\u001b[1;32m      8\u001b[0m \u001b[0;34m\u001b[0m\u001b[0m\n\u001b[1;32m      9\u001b[0m \u001b[0;31m# Read PDF and CSV data\u001b[0m\u001b[0;34m\u001b[0m\u001b[0;34m\u001b[0m\u001b[0m\n\u001b[0;32m---> 10\u001b[0;31m \u001b[0mpdf_text\u001b[0m \u001b[0;34m=\u001b[0m \u001b[0mextract_text_from_pdf\u001b[0m\u001b[0;34m(\u001b[0m\u001b[0mpdf_path\u001b[0m\u001b[0;34m)\u001b[0m\u001b[0;34m\u001b[0m\u001b[0;34m\u001b[0m\u001b[0m\n\u001b[0m\u001b[1;32m     11\u001b[0m \u001b[0mcsv_data\u001b[0m \u001b[0;34m=\u001b[0m \u001b[0mload_csv_data\u001b[0m\u001b[0;34m(\u001b[0m\u001b[0mcsv_path\u001b[0m\u001b[0;34m)\u001b[0m\u001b[0;34m\u001b[0m\u001b[0;34m\u001b[0m\u001b[0m\n\u001b[1;32m     12\u001b[0m \u001b[0;34m\u001b[0m\u001b[0m\n\u001b[1;32m     13\u001b[0m \u001b[0;31m# Initialize routing and multi-agent system\u001b[0m\u001b[0;34m\u001b[0m\u001b[0;34m\u001b[0m\u001b[0m\n",
      "\u001b[0;32m/tmp/ipykernel_84763/1860087998.py\u001b[0m in \u001b[0;36m?\u001b[0;34m(pdf_path)\u001b[0m\n\u001b[1;32m      3\u001b[0m \u001b[0;32mdef\u001b[0m \u001b[0mextract_text_from_pdf\u001b[0m\u001b[0;34m(\u001b[0m\u001b[0mpdf_path\u001b[0m\u001b[0;34m:\u001b[0m \u001b[0mstr\u001b[0m\u001b[0;34m)\u001b[0m \u001b[0;34m->\u001b[0m \u001b[0mstr\u001b[0m\u001b[0;34m:\u001b[0m\u001b[0;34m\u001b[0m\u001b[0;34m\u001b[0m\u001b[0m\n\u001b[0;32m----> 4\u001b[0;31m     \u001b[0mdoc\u001b[0m \u001b[0;34m=\u001b[0m \u001b[0mfitz\u001b[0m\u001b[0;34m.\u001b[0m\u001b[0mopen\u001b[0m\u001b[0;34m(\u001b[0m\u001b[0mpdf_path\u001b[0m\u001b[0;34m)\u001b[0m\u001b[0;34m\u001b[0m\u001b[0;34m\u001b[0m\u001b[0m\n\u001b[0m\u001b[1;32m      5\u001b[0m     \u001b[0mtext\u001b[0m \u001b[0;34m=\u001b[0m \u001b[0;34m\"\"\u001b[0m\u001b[0;34m\u001b[0m\u001b[0;34m\u001b[0m\u001b[0m\n\u001b[1;32m      6\u001b[0m     \u001b[0;32mfor\u001b[0m \u001b[0mpage\u001b[0m \u001b[0;32min\u001b[0m \u001b[0mdoc\u001b[0m\u001b[0;34m:\u001b[0m\u001b[0;34m\u001b[0m\u001b[0;34m\u001b[0m\u001b[0m\n\u001b[1;32m      7\u001b[0m         \u001b[0mtext\u001b[0m \u001b[0;34m+=\u001b[0m \u001b[0mpage\u001b[0m\u001b[0;34m.\u001b[0m\u001b[0mget_text\u001b[0m\u001b[0;34m(\u001b[0m\u001b[0;34m\"text\"\u001b[0m\u001b[0;34m)\u001b[0m\u001b[0;34m\u001b[0m\u001b[0;34m\u001b[0m\u001b[0m\n",
      "\u001b[0;32m~/anaconda3/envs/crewai/lib/python3.11/site-packages/pymupdf/__init__.py\u001b[0m in \u001b[0;36m?\u001b[0;34m(self, filename, stream, filetype, rect, width, height, fontsize)\u001b[0m\n\u001b[1;32m   3066\u001b[0m                     \u001b[0mself\u001b[0m\u001b[0;34m.\u001b[0m\u001b[0mpage_count2\u001b[0m \u001b[0;34m=\u001b[0m \u001b[0mextra\u001b[0m\u001b[0;34m.\u001b[0m\u001b[0mpage_count_pdf\u001b[0m\u001b[0;34m\u001b[0m\u001b[0;34m\u001b[0m\u001b[0m\n\u001b[1;32m   3067\u001b[0m                 \u001b[0;32melse\u001b[0m\u001b[0;34m:\u001b[0m\u001b[0;34m\u001b[0m\u001b[0;34m\u001b[0m\u001b[0m\n\u001b[1;32m   3068\u001b[0m                     \u001b[0mself\u001b[0m\u001b[0;34m.\u001b[0m\u001b[0mpage_count2\u001b[0m \u001b[0;34m=\u001b[0m \u001b[0mextra\u001b[0m\u001b[0;34m.\u001b[0m\u001b[0mpage_count_fz\u001b[0m\u001b[0;34m\u001b[0m\u001b[0;34m\u001b[0m\u001b[0m\n\u001b[1;32m   3069\u001b[0m         \u001b[0;32mfinally\u001b[0m\u001b[0;34m:\u001b[0m\u001b[0;34m\u001b[0m\u001b[0;34m\u001b[0m\u001b[0m\n\u001b[0;32m-> 3070\u001b[0;31m             \u001b[0mJM_mupdf_show_errors\u001b[0m \u001b[0;34m=\u001b[0m \u001b[0mJM_mupdf_show_errors_old\u001b[0m\u001b[0;34m\u001b[0m\u001b[0;34m\u001b[0m\u001b[0m\n\u001b[0m",
      "\u001b[0;31mFileNotFoundError\u001b[0m: no such file: 'example.pdf'"
     ]
    }
   ],
   "source": [
    "# Example PDF and CSV file paths\n",
    "pdf_path = \"example.pdf\"\n",
    "csv_path = \"example.csv\"\n",
    "\n",
    "# Example agents for tasks\n",
    "pdf_agent = PDFAgent(name=\"PDF Text Extraction Agent\")\n",
    "csv_agent = CSVAgent(name=\"CSV Data Extraction Agent\")\n",
    "\n",
    "# Read PDF and CSV data\n",
    "pdf_text = extract_text_from_pdf(pdf_path)\n",
    "csv_data = load_csv_data(csv_path)\n",
    "\n",
    "# Initialize routing and multi-agent system\n",
    "router = RouteQuestion(pdf_text=pdf_text, csv_data=csv_data)\n",
    "multi_agent_system = MultiAgentSystem(pdf_agent=pdf_agent, csv_agent=csv_agent, router=router)\n",
    "\n",
    "# Collect user input (the question)\n",
    "user_question = input(\"Please ask a question: \")\n",
    "\n",
    "# Run the multi-agent system with the user question\n",
    "print(\"\\nRunning multi-agent system with your question...\\n\")\n",
    "result = multi_agent_system.run(user_question)\n",
    "\n",
    "# Display the results\n",
    "print(f\"\\nResponse:\\n{result}\")\n"
   ]
  },
  {
   "cell_type": "code",
   "execution_count": null,
   "metadata": {},
   "outputs": [],
   "source": []
  }
 ],
 "metadata": {
  "kernelspec": {
   "display_name": "crewai",
   "language": "python",
   "name": "python3"
  },
  "language_info": {
   "codemirror_mode": {
    "name": "ipython",
    "version": 3
   },
   "file_extension": ".py",
   "mimetype": "text/x-python",
   "name": "python",
   "nbconvert_exporter": "python",
   "pygments_lexer": "ipython3",
   "version": "3.11.0"
  }
 },
 "nbformat": 4,
 "nbformat_minor": 2
}
